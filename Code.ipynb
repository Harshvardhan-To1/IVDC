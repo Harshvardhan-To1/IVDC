!pip install keras_preprocessing
from keras.utils import to_categorical
from keras_preprocessing.image import load_img
from keras.models import Sequential
from keras.applications import MobileNetV2,ResNet152,VGG16,EfficientNetB0,InceptionV3
from keras.layers import Dense, Conv2D, Dropout, Flatten, MaxPooling2D,BatchNormalization,GlobalAveragePooling2D
import os
import pandas as pd
import numpy as np
import PIL
TRAIN_DIR = "/kaggle/input/traffic1/archive (2)/traffic_Data/DATA"
#TEST_DIR = "A\images\Validation"

def createdataframe(dir):
    image_paths = []
    labels = []
    for label in os.listdir(dir):
        for imagename in os.listdir(os.path.join(dir,label)):
            image_paths.append(os.path.join(dir,label,imagename))
            labels.append(label)
        print(label, "completed")
    return image_paths,labels
train = pd.DataFrame()
train['image'], train['label'] = createdataframe(TRAIN_DIR)

#test = pd.DataFrame()
#test['image'], test['label'] = createdataframe(TEST_DIR)
from tqdm.notebook import tqdm
def extract_features(images):
    features = []
    for image in tqdm(images):
        img = load_img(image, target_size=(224,224))
        img = np.array(img)
        features.append(img)
    features = np.array(features)
    features = features.reshape(features.shape[0], 224,224, 3)  # Reshape all images in one go
    return features

train_features = extract_features(train['image'])
#test_features = extract_features(test['image'])

x_train = train_features/255.0
#x_test = test_features/255.0
from sklearn.preprocessing import LabelEncoder
le = LabelEncoder()
le.fit(train['label'])
y_train = le.transform(train['label'])
#y_test = le.transform(test['label'])
y_train = to_categorical(y_train,num_classes = 58)
#y_test = to_categorical(y_test,num_classes = 2)
# model = Sequential()
# # convolutional layers
# model.add(Conv2D(32, kernel_size=(3,3), activation='relu', input_shape=(236,236,1)))
# model.add(MaxPooling2D(pool_size=(2,2)))

# model.add(Conv2D(256, kernel_size=(3,3), activation='relu'))
# model.add(MaxPooling2D(pool_size=(2,2)))

# model.add(Conv2D(512, kernel_size=(3,3), activation='relu'))
# model.add(MaxPooling2D(pool_size=(2,2)))

# model.add(Conv2D(1024, kernel_size=(3,3), activation='relu'))
# model.add(MaxPooling2D(pool_size=(2,2)))


# model.add(Flatten())
# # fully connected layers
# model.add(Dense(1024, activation='relu'))
# model.add(Dropout(0.3))
# model.add(Dense(2048, activation='relu'))
# model.add(Dense(2, activation='softmax'))

# model.compile(optimizer = 'adam', loss = 'binary_crossentropy', metrics = ['accuracy'] )
# model.fit(x= x_train,y = y_train, batch_size = 25, epochs = 20)
model = Sequential()
model.add(MobileNetV2(include_top = False, weights="imagenet", input_shape=(224,224, 3)))
model.add(GlobalAveragePooling2D(),)
model.add(Dense(58, activation = 'softmax'))
model.layers[0].trainable = False
model.compile(optimizer = 'AdamW', loss = 'binary_crossentropy', metrics = ['accuracy'] )
model.fit(x= x_train,y = y_train, batch_size = 50, epochs = 5)
# model_json = model.to_json()
# with open("Model.json",'w') as json_file:
#     json_file.write(model_json)

import cv2
import pandas as pd
from keras.models import model_from_json
import numpy as np
import os
import re
# json_file = open("Model.json", "r")
# model_json = json_file.read()
# json_file.close()
# model = model_from_json(model_json)
# model.load_weights("Model.h5")

def extract_feature(image):
    features = np.array(image)
    features = features.reshape(1,224,224, 3)
    return features / 255.0

df = pd.read_csv('/kaggle/input/traffic1/archive (2)/labels.csv')
labels = df.set_index('ClassId')['Name'].to_dict()

def createdataframe(dir):
    image_paths = []
    for label in os.listdir(dir):
        for imagename in os.listdir(os.path.join(dir, label)):
            image_paths.append(os.path.join(dir, label, imagename))
    return image_paths

def createdataframe2(dir):
    image_paths = []
    for label in os.listdir(dir):
        for imagename in os.listdir(os.path.join(dir, label)):
            image_paths.append(imagename)
    return image_paths

def resize_image(image_path):
    img = cv2.imread(image_path)
    resized_img = cv2.resize(img, (224,224))
    return resized_img

train = pd.DataFrame()
train['image'] = createdataframe("/kaggle/input/traffic1/archive (2)/traffic_Data/TEST1")

label = []
for image_path in train['image']:
    resized_img = resize_image(image_path)
    img = extract_feature(resized_img)
    pred = model.predict(img)
    label.append(labels[pred.argmax()])
def convert_filename(filename):
    return re.sub(r'\.jpg$', '', filename)
test = pd.DataFrame()
test['Id'] = createdataframe2("/kaggle/input/traffic1/archive (2)/traffic_Data/TEST1")
test['Label'] = label

test['Id'] = [convert_filename(filename) for filename in test['Id']]
test.set_index('Id', inplace=True, drop=True)
test1 = test.sort_values(by = 'Id')
test1.to_csv("SubmissionFinal1.csv")
